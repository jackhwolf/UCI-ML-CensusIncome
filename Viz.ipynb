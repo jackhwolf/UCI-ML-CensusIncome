{
 "cells": [
  {
   "cell_type": "code",
   "execution_count": 1,
   "metadata": {},
   "outputs": [],
   "source": [
    "import pandas as pd\n",
    "import numpy as np\n",
    "import json\n",
    "import matplotlib.pyplot as plt\n",
    "from util import resultsmngr, analyzer"
   ]
  },
  {
   "cell_type": "markdown",
   "metadata": {},
   "source": [
    "## Look at best performance for each model type"
   ]
  },
  {
   "cell_type": "code",
   "execution_count": 2,
   "metadata": {},
   "outputs": [
    {
     "data": {
      "image/png": "[encoded data removed]",
      "text/plain": [
       "<Figure size 432x288 with 1 Axes>"
      ]
     },
     "metadata": {
      "needs_background": "light"
     },
     "output_type": "display_data"
    }
   ],
   "source": [
    "results = resultsmngr.load('CensusIncome/results/1577576647.json')\n",
    "\n",
    "def graphBestByModelType(results):\n",
    "  best = analyzer.bestparams(results)\n",
    "  fig, ax = plt.subplots()\n",
    "  ax.set_ylim((0, 1))\n",
    "  rex = ax.bar(range(len(best)), [best[b]['metrics']['testing-accuracy'] for b in best])\n",
    "  ax.set_xticks(range(len(best)))\n",
    "  ax.set_xticklabels(list(best))\n",
    "  for r in rex:\n",
    "    ht = r.get_height()\n",
    "    ax.annotate(\n",
    "      str(round(ht, 2)),\n",
    "      xy=(r.get_x() + r.get_width() / 2, ht),\n",
    "      xytext=(0, 3),  # 3 points vertical offset\n",
    "      textcoords=\"offset points\",\n",
    "      ha='center', va='bottom')\n",
    "  ax.set_title(\"Highest accuracies for each model type\")\n",
    "  return best\n",
    "  \n",
    "  \n",
    "best = graphBestByModelType(results)"
   ]
  },
  {
   "cell_type": "code",
   "execution_count": 10,
   "metadata": {},
   "outputs": [
    {
     "name": "stdout",
     "output_type": "stream",
     "text": [
      "{\n",
      "    \"SVC\": {\n",
      "        \"params\": null,\n",
      "        \"metrics\": {\n",
      "            \"training-accuracy\": 0.7530613147075726,\n",
      "            \"testing-accuracy\": 0.7451266410290412\n",
      "        }\n",
      "    },\n",
      "    \"LinearSVC\": {\n",
      "        \"params\": null,\n",
      "        \"metrics\": {\n",
      "            \"training-accuracy\": 0.3441934485654922,\n",
      "            \"testing-accuracy\": 0.3531361888343721\n",
      "        }\n",
      "    },\n",
      "    \"TreeClf\": {\n",
      "        \"params\": {\n",
      "            \"max_depth\": 10\n",
      "        },\n",
      "        \"metrics\": {\n",
      "            \"training-accuracy\": 0.870341717872773,\n",
      "            \"testing-accuracy\": 0.8528046678159396\n",
      "        }\n",
      "    }\n",
      "}\n"
     ]
    }
   ],
   "source": [
    "print(json.dumps(best, indent=4))"
   ]
  },
  {
   "cell_type": "markdown",
   "metadata": {},
   "source": [
    "## Seems like a DecisionTreeClassifier will be best so lets GridSearch"
   ]
  }
 ],
 "metadata": {
  "kernelspec": {
   "display_name": "CensusIncomeProject",
   "language": "python",
   "name": "censusincomeproject"
  },
  "language_info": {
   "codemirror_mode": {
    "name": "ipython",
    "version": 3
   },
   "file_extension": ".py",
   "mimetype": "text/x-python",
   "name": "python",
   "nbconvert_exporter": "python",
   "pygments_lexer": "ipython3",
   "version": "3.6.8"
  }
 },
 "nbformat": 4,
 "nbformat_minor": 4
}
