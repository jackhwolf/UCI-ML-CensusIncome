{
 "cells": [
  {
   "cell_type": "code",
   "execution_count": 8,
   "metadata": {},
   "outputs": [],
   "source": [
    "import pandas as pd\n",
    "import numpy as np\n",
    "import json\n",
    "import matplotlib.pyplot as plt\n",
    "from util import resultsmngr, analyzer"
   ]
  },
  {
   "cell_type": "code",
   "execution_count": 9,
   "metadata": {},
   "outputs": [],
   "source": [
    "unbalanced_results = resultsmngr.load('CensusIncome/results/1577576647.json')\n",
    "balanced_results = resultsmngr.load('CensusIncome/results/1577579934.json')\n",
    "\n",
    "def graphBestByModelType(results, **kw):\n",
    "  best = analyzer.bestparams(results)\n",
    "  fig, ax = plt.subplots()\n",
    "  ax.set_ylim((0, 1))\n",
    "  rex = ax.bar(range(len(best)), [best[b]['metrics']['testing-accuracy'] for b in best])\n",
    "  ax.set_xticks(range(len(best)))\n",
    "  ax.set_xticklabels(list(best))\n",
    "  for r in rex:\n",
    "    ht = r.get_height()\n",
    "    ax.annotate(\n",
    "      str(round(ht, 2)),\n",
    "      xy=(r.get_x() + r.get_width() / 2, ht),\n",
    "      xytext=(0, 3),  # 3 points vertical offset\n",
    "      textcoords=\"offset points\",\n",
    "      ha='center', va='bottom')\n",
    "  ax.set_title(kw.get('title', 'Accuracies'))\n",
    "  return best"
   ]
  },
  {
   "cell_type": "markdown",
   "metadata": {},
   "source": [
    "## Look at best performance for each model type"
   ]
  },
  {
   "cell_type": "code",
   "execution_count": 10,
   "metadata": {},
   "outputs": [
    {
     "data": {
      "image/png": "[encoded data removed]",
      "text/plain": [
       "<Figure size 432x288 with 1 Axes>"
      ]
     },
     "metadata": {
      "needs_background": "light"
     },
     "output_type": "display_data"
    },
    {
     "data": {
      "image/png": "[encoded data removed]",
      "text/plain": [
       "<Figure size 432x288 with 1 Axes>"
      ]
     },
     "metadata": {
      "needs_background": "light"
     },
     "output_type": "display_data"
    }
   ],
   "source": [
    "unb_best = graphBestByModelType(unbalanced_results, title=\"Accuracies by model type\\nUnbalanced training\")\n",
    "b_best = graphBestByModelType(balanced_results, title=\"Accuracies by model type\\nBalanced training\")"
   ]
  },
  {
   "cell_type": "markdown",
   "metadata": {},
   "source": [
    "## It makes sense to do worse in a balanced setting, since we aren't being lazy and always guessing the predominant class. I'm going to stick with the model that performed best in the balanced setting since it is more general and \"real world\""
   ]
  },
  {
   "cell_type": "code",
   "execution_count": 11,
   "metadata": {},
   "outputs": [
    {
     "name": "stdout",
     "output_type": "stream",
     "text": [
      "{\n",
      "    \"params\": null,\n",
      "    \"metrics\": {\n",
      "        \"training-accuracy\": 0.6142781033564199,\n",
      "        \"testing-accuracy\": 0.8806878306878307\n",
      "    }\n",
      "}\n"
     ]
    }
   ],
   "source": [
    "print(json.dumps(b_best['LinearSVC'], indent=4))"
   ]
  },
  {
   "cell_type": "markdown",
   "metadata": {},
   "source": [
    "## Seems like a LinearSVC will be best so lets GridSearch on a wide range of params"
   ]
  },
  {
   "cell_type": "code",
   "execution_count": 13,
   "metadata": {},
   "outputs": [
    {
     "name": "stdout",
     "output_type": "stream",
     "text": [
      "Best params:  {'C': 0.1, 'loss': 'squared_hinge'}\n",
      "Accuracy:     0.9004761904761904\n"
     ]
    }
   ],
   "source": [
    "from util import preprocessor, splitfuncs, metrics\n",
    "from sklearn.model_selection import GridSearchCV\n",
    "from sklearn.svm import LinearSVC\n",
    "\n",
    "# setup model and params to test\n",
    "model = LinearSVC()\n",
    "parameters = {\n",
    "  'loss': ['hinge', 'squared_hinge'],\n",
    "  'C': np.linspace(0.1, 5, 5)\n",
    "}\n",
    "\n",
    "# get data and train/test splits\n",
    "pre = preprocessor()\n",
    "trx, try_ = pre.data\n",
    "# this is optional but lets me CV on balanced sets\n",
    "splits = []\n",
    "for i in range(5):\n",
    "  tri, i, tei, j = splitfuncs.splitBalanced(trx, try_)\n",
    "  splits.append((tri.index, tei.index))\n",
    "\n",
    "# get our best params and retrain a new model\n",
    "clf = GridSearchCV(model, parameters, cv=splits)\n",
    "gs = clf.fit(trx, try_)\n",
    "model = LinearSVC(**gs.best_params_)\n",
    "\n",
    "# check model performance\n",
    "trx, try_, tex, tey = splitfuncs.splitBalanced(trx, try_)\n",
    "model.fit(trx, try_)\n",
    "preds = model.predict(tex)\n",
    "acc = metrics.acc(preds, tey)\n",
    "\n",
    "print(\"Best params: \", gs.best_params_)\n",
    "print(\"Accuracy:    \", acc)"
   ]
  },
  {
   "cell_type": "markdown",
   "metadata": {},
   "source": [
    "## So that didn't get us very far, but good to know we're doing the best we can"
   ]
  }
 ],
 "metadata": {
  "kernelspec": {
   "display_name": "CensusIncomeProject",
   "language": "python",
   "name": "censusincomeproject"
  },
  "language_info": {
   "codemirror_mode": {
    "name": "ipython",
    "version": 3
   },
   "file_extension": ".py",
   "mimetype": "text/x-python",
   "name": "python",
   "nbconvert_exporter": "python",
   "pygments_lexer": "ipython3",
   "version": "3.6.8"
  }
 },
 "nbformat": 4,
 "nbformat_minor": 4
}
